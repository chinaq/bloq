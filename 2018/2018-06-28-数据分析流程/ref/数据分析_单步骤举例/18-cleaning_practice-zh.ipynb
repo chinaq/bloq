{
 "cells": [
  {
   "cell_type": "markdown",
   "metadata": {},
   "source": [
    "# 清除示例 II\n",
    "我们先练习癌症数据缺失值和重复值的处理。"
   ]
  },
  {
   "cell_type": "code",
   "execution_count": 1,
   "metadata": {
    "scrolled": true
   },
   "outputs": [
    {
     "name": "stdout",
     "output_type": "stream",
     "text": [
      "<class 'pandas.core.frame.DataFrame'>\n",
      "RangeIndex: 564 entries, 0 to 563\n",
      "Data columns (total 11 columns):\n",
      "id                564 non-null int64\n",
      "diagnosis         564 non-null object\n",
      "radius            564 non-null float64\n",
      "texture           564 non-null float64\n",
      "perimeter         564 non-null float64\n",
      "area              564 non-null float64\n",
      "smoothness        564 non-null float64\n",
      "compactness       564 non-null float64\n",
      "concavity         564 non-null float64\n",
      "concave_points    564 non-null float64\n",
      "symmetry          564 non-null float64\n",
      "dtypes: float64(9), int64(1), object(1)\n",
      "memory usage: 48.5+ KB\n"
     ]
    }
   ],
   "source": [
    "# 读入 `cancer_data_edited.csv`\n",
    "import pandas as pd\n",
    "df=pd.read_csv('cancer_data_edited.csv')\n",
    "# 用 info() 检查哪些列有缺失值\n",
    "df.info()"
   ]
  },
  {
   "cell_type": "code",
   "execution_count": 5,
   "metadata": {},
   "outputs": [
    {
     "name": "stdout",
     "output_type": "stream",
     "text": [
      "<class 'pandas.core.frame.DataFrame'>\n",
      "RangeIndex: 564 entries, 0 to 563\n",
      "Data columns (total 14 columns):\n",
      "id                 564 non-null int64\n",
      "diagnosis          564 non-null object\n",
      "radius             564 non-null float64\n",
      "texture            564 non-null float64\n",
      "perimeter          564 non-null float64\n",
      "area               564 non-null float64\n",
      "smoothness         564 non-null float64\n",
      "compactness        564 non-null float64\n",
      "concavity          564 non-null float64\n",
      "concave_points     564 non-null float64\n",
      "symmetry           564 non-null float64\n",
      "texture_mean       564 non-null float64\n",
      "smoothness_mean    564 non-null float64\n",
      "symmetry_mean      564 non-null float64\n",
      "dtypes: float64(12), int64(1), object(1)\n",
      "memory usage: 61.8+ KB\n"
     ]
    }
   ],
   "source": [
    "# 用均值填充缺失值\n",
    "text_mean=df['texture'].mean()\n",
    "df['texture_mean']=df['texture'].fillna(text_mean)\n",
    "mean=df['smoothness'].mean()\n",
    "df['smoothness_mean']=df['smoothness'].fillna(mean)\n",
    "mean=df['symmetry'].mean()\n",
    "df['symmetry_mean']=df['symmetry'].fillna(mean)\n",
    "# 用 info() 确认修改\n",
    "df.info()"
   ]
  },
  {
   "cell_type": "code",
   "execution_count": 6,
   "metadata": {},
   "outputs": [
    {
     "data": {
      "text/plain": [
       "0"
      ]
     },
     "execution_count": 6,
     "metadata": {},
     "output_type": "execute_result"
    }
   ],
   "source": [
    "# 检查数据中的重复\n",
    "sum(df.duplicated())"
   ]
  },
  {
   "cell_type": "code",
   "execution_count": 7,
   "metadata": {
    "scrolled": true
   },
   "outputs": [],
   "source": [
    "# 丢弃重复\n",
    "df=df.drop_duplicates()"
   ]
  },
  {
   "cell_type": "code",
   "execution_count": 8,
   "metadata": {},
   "outputs": [
    {
     "data": {
      "text/plain": [
       "0"
      ]
     },
     "execution_count": 8,
     "metadata": {},
     "output_type": "execute_result"
    }
   ],
   "source": [
    "# 再次检查数据中的重复，确认修改\n",
    "sum(df.duplicated())"
   ]
  },
  {
   "cell_type": "markdown",
   "metadata": {},
   "source": [
    "## 重命名列\n",
    "由于之前修改了数据集，使其仅包括肿瘤特征的均值，因此每个特征末尾好像不需要 \"_mean\" 。而且，稍后输入分析还要多耗费时间。我们现在想一些要分配给列的新标签。"
   ]
  },
  {
   "cell_type": "code",
   "execution_count": 12,
   "metadata": {},
   "outputs": [
    {
     "data": {
      "text/plain": [
       "['id',\n",
       " 'diagnosis',\n",
       " 'radius',\n",
       " 'texture',\n",
       " 'perimeter',\n",
       " 'area',\n",
       " 'smoothness',\n",
       " 'compactness',\n",
       " 'concavity',\n",
       " 'concave_points',\n",
       " 'symmetry',\n",
       " 'texture',\n",
       " 'smoothness',\n",
       " 'symmetry']"
      ]
     },
     "execution_count": 12,
     "metadata": {},
     "output_type": "execute_result"
    }
   ],
   "source": [
    "# 从列名称中移除 \"_mean\"\n",
    "new_labels = []\n",
    "for col in df.columns:\n",
    "    if '_mean' in col:\n",
    "        new_labels.append(col[:-5])  # 不包括最后 5 个字符\n",
    "    else:\n",
    "        new_labels.append(col)\n",
    "\n",
    "# 列的新标签\n",
    "new_labels"
   ]
  },
  {
   "cell_type": "code",
   "execution_count": null,
   "metadata": {},
   "outputs": [],
   "source": [
    "# 为数据框中的列分配新标签\n",
    "df.columns = new_labels\n",
    "\n",
    "# 显示数据框的前几行，确认更改\n",
    "df.head()"
   ]
  },
  {
   "cell_type": "code",
   "execution_count": null,
   "metadata": {},
   "outputs": [],
   "source": [
    "# 将其保存，供稍后使用\n",
    "df.to_csv('cancer_data_edited.csv', index=False)"
   ]
  }
 ],
 "metadata": {
  "kernelspec": {
   "display_name": "Python 3",
   "language": "python",
   "name": "python3"
  },
  "language_info": {
   "codemirror_mode": {
    "name": "ipython",
    "version": 3
   },
   "file_extension": ".py",
   "mimetype": "text/x-python",
   "name": "python",
   "nbconvert_exporter": "python",
   "pygments_lexer": "ipython3",
   "version": "3.6.3"
  }
 },
 "nbformat": 4,
 "nbformat_minor": 2
}

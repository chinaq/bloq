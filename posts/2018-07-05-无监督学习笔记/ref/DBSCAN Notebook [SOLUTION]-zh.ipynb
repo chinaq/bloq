{
 "cells": [
  {
   "cell_type": "markdown",
   "metadata": {},
   "source": [
    "# DBSCAN Lab\n",
    "在此 notebook 中，我们将使用 DBSCAN 来聚集几个数据集。我们将研究更改参数（ε 和 min_samples）会如何更改生成的聚类结构。"
   ]
  },
  {
   "cell_type": "code",
   "execution_count": null,
   "metadata": {},
   "outputs": [],
   "source": [
    "import pandas as pd\n",
    "dataset_1 = pd.read_csv('blobs.csv')[:80].values"
   ]
  },
  {
   "cell_type": "markdown",
   "metadata": {},
   "source": [
    "下面是第一个数据集："
   ]
  },
  {
   "cell_type": "code",
   "execution_count": null,
   "metadata": {},
   "outputs": [],
   "source": [
    "%matplotlib inline\n",
    "\n",
    "import dbscan_lab_helper as helper\n",
    "    \n",
    "helper.plot_dataset(dataset_1)"
   ]
  },
  {
   "cell_type": "markdown",
   "metadata": {},
   "source": [
    "![png](output_3_0.png)\n",
    "\n",
    "\n",
    "我们使用 DBSCAN 的默认设置对其进行聚类，看看会发生什么。我们希望它能够将三个“blob”分别分配给各自的聚类。可以通过创新方式完成操作吗？"
   ]
  },
  {
   "cell_type": "code",
   "execution_count": null,
   "metadata": {},
   "outputs": [],
   "source": [
    "#TODO: Import sklearn's cluster module\n",
    "from sklearn import cluster\n",
    "\n",
    "#TODO: create an instance of DBSCAN\n",
    "dbscan = cluster.DBSCAN()\n",
    "#TODO: use DBSCAN's fit_predict to return clustering labels for dataset_1\n",
    "clustering_labels_1 = dbscan.fit_predict(dataset_1)"
   ]
  },
  {
   "cell_type": "code",
   "execution_count": null,
   "metadata": {},
   "outputs": [],
   "source": [
    "# Plot clustering\n",
    "helper.plot_clustered_dataset(dataset_1, clustering_labels_1)"
   ]
  },
  {
   "cell_type": "markdown",
   "metadata": {},
   "source": [
    "![png](output_6_0.png)\n",
    "\n",
    "\n",
    "看起来合适吗？能够将数据集拆分为我们希望获得的三个聚类吗？\n",
    "\n",
    "可以看出，我们需要作出一些调整。首先看看 ε，即每个点周围的半径。sklearn 中的默认值为 0.5。"
   ]
  },
  {
   "cell_type": "code",
   "execution_count": null,
   "metadata": {},
   "outputs": [],
   "source": [
    "# Plot clustering with neighborhoods\n",
    "helper.plot_clustered_dataset(dataset_1, clustering_labels_1, neighborhood=True)\n"
   ]
  },
  {
   "cell_type": "markdown",
   "metadata": {},
   "source": [
    "![png](output_8_0.png)\n",
    "\n",
    "\n",
    "从图表中可以看出，对于此数据集来说，ε 为 0.5 太小了。我们需要增大该值，以便 blob 中的点周围不会相互重叠，但是也不会导致一个聚类占据了两个 blob。\n",
    "\n",
    "**练习**：更改 ε 的值，使每个 blob 都有自己的聚类（没有任何噪点）。图表显示了数据集中的点以及每个点周围的空间："
   ]
  },
  {
   "cell_type": "code",
   "execution_count": null,
   "metadata": {},
   "outputs": [],
   "source": [
    "# TODO: increase the value of epsilon to allow DBSCAN to find three clusters in the dataset\n",
    "epsilon=2\n",
    "\n",
    "# Cluster\n",
    "dbscan = cluster.DBSCAN(eps=epsilon)\n",
    "clustering_labels_2 = dbscan.fit_predict(dataset_1)\n",
    "\n",
    "# Plot\n",
    "helper.plot_clustered_dataset(dataset_1, clustering_labels_2, neighborhood=True, epsilon=epsilon)"
   ]
  },
  {
   "cell_type": "markdown",
   "metadata": {},
   "source": [
    "![png](output_10_0.png)\n",
    "\n",
    "\n",
    "能够这么操作吗？当你更改值时，可以看到点聚合成了更大的聚类，噪点数量不断减少。当 ε 的值超过 1.6 时，获得了我们想要的聚类。但是一旦超过 5，可以看到两个  blob 形成了一个聚类。因此在此情形下，合适的 ε 应该是在这两个值的范围之内。\n",
    "\n",
    "## 数据集 2\n",
    "\n",
    "现在看一个有点复杂的数据集"
   ]
  },
  {
   "cell_type": "code",
   "execution_count": null,
   "metadata": {},
   "outputs": [],
   "source": [
    "dataset_2 = pd.read_csv('varied.csv')[:300].values"
   ]
  },
  {
   "cell_type": "code",
   "execution_count": null,
   "metadata": {},
   "outputs": [],
   "source": [
    "# Plot\n",
    "helper.plot_dataset(dataset_2, xlim=(-14, 5), ylim=(-12, 7))"
   ]
  },
  {
   "cell_type": "markdown",
   "metadata": {},
   "source": [
    "![png](output_13_0.png)\n",
    "\n",
    "\n",
    "如果我们运行 DBSCAN 并传入默认参数值，会发生什么？"
   ]
  },
  {
   "cell_type": "code",
   "execution_count": null,
   "metadata": {},
   "outputs": [],
   "source": [
    "# Cluster with DBSCAN\n",
    "# TODO: Create a new isntance of DBSCAN\n",
    "dbscan = cluster.DBSCAN()\n",
    "# TODO: use DBSCAN's fit_predict to return clustering labels for dataset_2\n",
    "clustering_labels_3 = dbscan.fit_predict(dataset_2)"
   ]
  },
  {
   "cell_type": "code",
   "execution_count": null,
   "metadata": {},
   "outputs": [],
   "source": [
    "# Plot\n",
    "helper.plot_clustered_dataset(dataset_2, \n",
    "                              clustering_labels_3, \n",
    "                              xlim=(-14, 5), \n",
    "                              ylim=(-12, 7), \n",
    "                              neighborhood=True, \n",
    "                              epsilon=0.5)"
   ]
  },
  {
   "cell_type": "markdown",
   "metadata": {},
   "source": [
    "![png](output_16_0.png)\n",
    "\n",
    "\n",
    "在某些情形下，这种聚类比较合理，但是似乎很随意。查看数据集后，可以想象出至少有两种想要的操作情形：\n",
    "\n",
    " * **情境 1**：将数据集拆分为三个聚类：左边一个 blob、右边一个 blob，中间一个 blob（虽然比两侧的密度要低）。\n",
    " * **情境 2**： 将数据集拆分为两个聚类：左边一个 blob，右边一个 blob。将中心的所有点标记为噪点。\n",
    " \n",
    "什么样的 DBSCAN 参数值可以满足上述每种情形？尝试几种参数，看看能否找到更合适的聚类。"
   ]
  },
  {
   "cell_type": "code",
   "execution_count": null,
   "metadata": {},
   "outputs": [],
   "source": [
    "# TODO: Experiment with different values for eps and min_samples to find a suitable clustering for the dataset\n",
    "eps=1.32\n",
    "min_samples=50\n",
    "\n",
    "# Cluster with DBSCAN\n",
    "dbscan = cluster.DBSCAN(eps=eps, min_samples=min_samples)\n",
    "clustering_labels_4 = dbscan.fit_predict(dataset_2)\n",
    "\n",
    "# Plot\n",
    "helper.plot_clustered_dataset(dataset_2, \n",
    "                              clustering_labels_4, \n",
    "                              xlim=(-14, 5), \n",
    "                              ylim=(-12, 7), \n",
    "                              neighborhood=True, \n",
    "                              epsilon=0.5)"
   ]
  },
  {
   "cell_type": "markdown",
   "metadata": {},
   "source": [
    "![png](output_18_0.png)\n",
    "\n",
    "\n",
    "\n",
    "以下网格绘制了各种参数值的 DBSCAN 聚类结果。ε 在水平方向变化，在垂直方向，每行表示不同的 min_samples 值。"
   ]
  },
  {
   "cell_type": "code",
   "execution_count": null,
   "metadata": {},
   "outputs": [],
   "source": [
    "eps_values = [0.3, 0.5, 1, 1.3, 1.5]\n",
    "min_samples_values = [2, 5, 10, 20, 80]\n",
    "\n",
    "helper.plot_dbscan_grid(dataset_2, eps_values, min_samples_values)\n"
   ]
  },
  {
   "cell_type": "markdown",
   "metadata": {},
   "source": [
    "![png](output_20_0.png)\n",
    "\n",
    "\n",
    "## 实验 DBSCAN 参数的启发法\n",
    "查看以下网格，可以猜测出调整 DBSCAN 参数的一般启发法：\n",
    "\n",
    "| |ε 太低|ε 太高|\n",
    "|---|---|---|\n",
    "|**min_samples 太低** |<img src='images/low_epsilon_and_low_min_sample.png'><br>很多小的聚类。超出了数据集的预期数量。<br>**措施**：增大 min_samples 和 ε| <img src='images/high_epsilon_and_low_min_sample.png'><br>很多点都属于一个聚类<br>**措施**：降低 ε 并增大 min_samples |\n",
    "|**min_samples 太高**|<img src='images/low_epsilon_and_high_min_sample.png'><br>大部分/所有数据点都标记为噪点<br>**措施**：增大 ε 并降低 min_sample| <img src='images/high_epsilon_and_high_min_sample.png'><br>除了非常密集的区域之外，大部分/所有数据点都标记为噪点（或者所有点都标记为噪点）。<br>**措施**：降低 min_samples 和 ε。 |\n",
    "\n",
    "### 练习\n",
    "* 你认为哪些值最适合情形 1？\n",
    "* 你认为哪些值最适合情形 2？\n",
    "\n",
    "### 答案:\n",
    "* 在这里 ε=1.3, min_samples=5 似乎更加合适。与之相似的还有 (1,2)，如例所示。\n",
    "* 就情形 2 而言，ε=1.3, min_samples=20 最为合适。"
   ]
  }
 ],
 "metadata": {
  "kernelspec": {
   "display_name": "Python 3",
   "language": "python",
   "name": "python3"
  },
  "language_info": {
   "codemirror_mode": {
    "name": "ipython",
    "version": 3
   },
   "file_extension": ".py",
   "mimetype": "text/x-python",
   "name": "python",
   "nbconvert_exporter": "python",
   "pygments_lexer": "ipython3",
   "version": "3.6.3"
  }
 },
 "nbformat": 4,
 "nbformat_minor": 2
}
